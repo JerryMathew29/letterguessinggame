{
 "cells": [
  {
   "cell_type": "markdown",
   "metadata": {},
   "source": [
    "**Create a Letter Guessing Game**\n",
    "\n",
    "Create a program that allows a user 7 chances to guess the correct word. If they do not guess the word after 7 tries, the player loses and the program will print the correct word. Otherwise, the play wins and the game.\n",
    "\n",
    "**How to build the program**\n",
    "* When you start the game, you will need to select a random word from a list of at least 10 words (You have full control over which words you want to use for you program). This will be your secret word. Your secret word will be represented in the program as a group of underscores. For as long as the word is, you should also have that many underscores. \n",
    "\n",
    "* Once the word is selected, your game will commence. Perform a Google search to figure out how to select a random word from a list using Python.<br>\n",
    "**Hint** There's package you can import into your application that does this for you.\n",
    "\n",
    "* The end user will have a total of 7 chances to guess the correct letter from the secret word. If the end user makes 7 incorrect guesses, the game will end.\n",
    "\n",
    "* As you guess the correct letters, the letters you have guess will then take place of the underscores that letter represents. <br>\n",
    "**For Example**: If your secret word is 'watermelon' and  so far you have guessed the letters 'a' and 'e', the word you're trying to guess will appear as follows: _ a _ e _ _ e _ _ _.<br>\n",
    "**Keep in mind** that if you guess a letter that appears more than once in your secret word, make sure that the letter is populated anywhere that letter would be."
   ]
  },
  {
   "cell_type": "code",
   "execution_count": 1,
   "metadata": {
    "scrolled": true
   },
   "outputs": [
    {
     "ename": "SyntaxError",
     "evalue": "invalid syntax (<ipython-input-1-86937bcf878c>, line 3)",
     "output_type": "error",
     "traceback": [
      "\u001b[1;36m  File \u001b[1;32m\"<ipython-input-1-86937bcf878c>\"\u001b[1;36m, line \u001b[1;32m3\u001b[0m\n\u001b[1;33m    _ _ _ _ _ _ _ _ _ _\u001b[0m\n\u001b[1;37m      ^\u001b[0m\n\u001b[1;31mSyntaxError\u001b[0m\u001b[1;31m:\u001b[0m invalid syntax\n"
     ]
    }
   ],
   "source": [
    "watermelon\n",
    "\n",
    "_ _ _ _ _ _ _ _ _ _"
   ]
  },
  {
   "cell_type": "code",
   "execution_count": null,
   "metadata": {},
   "outputs": [],
   "source": [
    "from IPython.display import clear_output\n",
    "import random\n",
    "\n",
    "words = (\"giraffe\", \"zebra\", \"mouse\", \"elephant\", \"cheetah\", \"jaguar\", \"tiger\", \"buffalo\", \"squirrel\", \"eagle\" )\n",
    "word = random.choice(words)\n",
    "\n",
    "def show_instructions():\n",
    "    print(\"\"\"\n",
    "Welcome to Wheel of Sorrow!\n",
    "To guess a letter type 'guess letter'\n",
    "After that you can type in the letter that you guess.\n",
    "If the letter you guessed is correct it will appear in the correct position.\n",
    "To guess the word type 'guess word'\n",
    "If you guess correctly you have won the game!\n",
    "You have 7 attempts to guess the word. Good Luck!\n",
    "\"\"\")\n",
    "    \n"
   ]
  },
  {
   "cell_type": "code",
   "execution_count": null,
   "metadata": {},
   "outputs": [],
   "source": [
    "import random\n",
    "\n",
    "words = [\"giraffe\", \"zebra\", \"mouse\", \"elephant\", \"cheetah\", \"jaguar\", \"tiger\", \"buffalo\", \"squirrel\", \"eagle\"]\n",
    "word = random.choice(words)\n",
    "secret_word = [\"_\"] * len(word)\n",
    "\n",
    "guess = input(\"Guess letter: \")\n",
    "\n",
    "for i, letter in enumerate(word):\n",
    "    if letter != \"_\" and guess == letter:\n",
    "        secret_word[i] = letter\n",
    "        \n",
    "print(\"\".join(secret_word))"
   ]
  },
  {
   "cell_type": "code",
   "execution_count": null,
   "metadata": {},
   "outputs": [],
   "source": []
  },
  {
   "cell_type": "code",
   "execution_count": 3,
   "metadata": {},
   "outputs": [
    {
     "name": "stdout",
     "output_type": "stream",
     "text": [
      "1\n",
      "z e b r a\n",
      "You win!\n"
     ]
    }
   ],
   "source": [
    "from IPython.display import clear_output\n",
    "import random\n",
    "\n",
    "def show_instructions():\n",
    "    print(\"\"\"\n",
    "Welcome to Wheel of Sorrow!\n",
    "You have 7 attempts to figure out the word\n",
    "type in the letter you want to guess \n",
    "\"\"\")\n",
    "\n",
    "words = [\"giraffe\", \"zebra\", \"mouse\", \"elephant\", \"cheetah\", \"jaguar\", \"tiger\", \"buffalo\", \"squirrel\", \"eagle\"]\n",
    "word = random.choice(words)\n",
    "secret_word = [\"_\"] * len(word)\n",
    "\n",
    "def main():\n",
    "    print(secret_word)\n",
    "    attempts = 7\n",
    "    while attempts > 0:\n",
    "        show_instructions()\n",
    "        guess = input(\"Guess letter: \")\n",
    "        clear_output()\n",
    "        attempts -= 1\n",
    "        \n",
    "        if guess == word: \n",
    "            print(\"You win!\")\n",
    "            break \n",
    "\n",
    "        for i, letter in enumerate(word):\n",
    "            if guess == letter:\n",
    "                secret_word[i] = letter \n",
    "        print(attempts)\n",
    "        print(\" \".join(secret_word))\n",
    "        \n",
    "        if \"_\" not in secret_word:\n",
    "            print(\"You win!\")\n",
    "            break \n",
    "                \n",
    "        \n",
    "\n",
    "main()"
   ]
  },
  {
   "cell_type": "code",
   "execution_count": null,
   "metadata": {},
   "outputs": [
    {
     "name": "stdout",
     "output_type": "stream",
     "text": [
      "['_', '_', '_', '_', '_', '_', '_', '_']\n",
      "\n",
      "Welcome to Wheel of Sorrow!\n",
      "You have 7 attempts to figure out the word\n",
      "type in the letter you want to guess \n",
      "\n"
     ]
    }
   ],
   "source": []
  },
  {
   "cell_type": "raw",
   "metadata": {},
   "source": []
  },
  {
   "cell_type": "code",
   "execution_count": null,
   "metadata": {},
   "outputs": [],
   "source": []
  }
 ],
 "metadata": {
  "kernelspec": {
   "display_name": "Python 3",
   "language": "python",
   "name": "python3"
  },
  "language_info": {
   "codemirror_mode": {
    "name": "ipython",
    "version": 3
   },
   "file_extension": ".py",
   "mimetype": "text/x-python",
   "name": "python",
   "nbconvert_exporter": "python",
   "pygments_lexer": "ipython3",
   "version": "3.8.3"
  }
 },
 "nbformat": 4,
 "nbformat_minor": 2
}
